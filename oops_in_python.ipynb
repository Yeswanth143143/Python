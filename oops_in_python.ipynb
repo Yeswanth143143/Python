{
 "cells": [
  {
   "cell_type": "markdown",
   "metadata": {},
   "source": [
    "# class and objects"
   ]
  },
  {
   "cell_type": "code",
   "execution_count": 1,
   "metadata": {},
   "outputs": [
    {
     "name": "stdout",
     "output_type": "stream",
     "text": [
      "ram 23\n"
     ]
    }
   ],
   "source": [
    "class Person():\n",
    "    def __init__(self,name,age):\n",
    "        \n",
    "        self.me=name\n",
    "        self.years=age\n",
    "        \n",
    "    def show(self):\n",
    "        \n",
    "        print(self.me,self.years)\n",
    "\n",
    "\n",
    "p=Person(\"ram\",23)\n",
    "\n",
    "p.show()\n",
    "\n",
    "#print(p.name)\n",
    "#print(p.age)"
   ]
  },
  {
   "cell_type": "markdown",
   "metadata": {},
   "source": [
    "# constructor and self"
   ]
  },
  {
   "cell_type": "code",
   "execution_count": 20,
   "metadata": {},
   "outputs": [
    {
     "name": "stdout",
     "output_type": "stream",
     "text": [
      "they are not same\n"
     ]
    }
   ],
   "source": [
    "class Cons():\n",
    "    \n",
    "    def __init__(self):\n",
    "            self.name = \"naveen\"\n",
    "            self.age =23\n",
    "    def compare(self,other):\n",
    "        if self.age==other.age:\n",
    "            return True\n",
    "            \n",
    "        else:\n",
    "             return False\n",
    "                \n",
    "        \n",
    "        \n",
    "c1=Cons()\n",
    "c2=Cons()\n",
    "c2.age=2\n",
    "if c1.compare(c2):\n",
    "    print('they are same')\n",
    "else:\n",
    "    print('they are not same')\n",
    "    "
   ]
  },
  {
   "cell_type": "markdown",
   "metadata": {},
   "source": [
    "# types of variables\n",
    "in below program wheels is a class variable,mil and brand are instance variable."
   ]
  },
  {
   "cell_type": "code",
   "execution_count": 25,
   "metadata": {},
   "outputs": [
    {
     "name": "stdout",
     "output_type": "stream",
     "text": [
      "23 honda 5\n",
      "23 bmw 5\n"
     ]
    }
   ],
   "source": [
    "class Yesh():\n",
    "    \n",
    "    \n",
    "    wheels=4\n",
    "    def __init__(self):\n",
    "        self.mil=23\n",
    "        self.brand='honda'\n",
    "        \n",
    "c1=Yesh()\n",
    "c2=Yesh()\n",
    "c2.brand='bmw'\n",
    "Yesh.wheels=5\n",
    "print(c1.mil,c1.brand,c1.wheels)\n",
    "print(c2.mil,c2.brand,c2.wheels)"
   ]
  },
  {
   "cell_type": "markdown",
   "metadata": {},
   "source": [
    "# types of methods\n"
   ]
  },
  {
   "cell_type": "markdown",
   "metadata": {},
   "source": [
    "1st instance method .it contains two types .they are setter method and getter method.\n",
    "in below program set_age is setter mathod and get_name is getter method."
   ]
  },
  {
   "cell_type": "code",
   "execution_count": 23,
   "metadata": {
    "scrolled": true
   },
   "outputs": [
    {
     "name": "stdout",
     "output_type": "stream",
     "text": [
      "MY NAME IS VEERENDRA\n",
      "VEERENDRA\n",
      "40\n"
     ]
    }
   ],
   "source": [
    "class Details():\n",
    "    def __init__(self,name,age):\n",
    "        self.dad=name\n",
    "        self.dad_age=age\n",
    "    def introduction(self):\n",
    "        print(\"MY NAME IS \" + self.dad )\n",
    "    def get_name(self):\n",
    "        return self.dad\n",
    "    def set_age(self,value):\n",
    "        self.dad_age=value\n",
    "        \n",
    "s1=Details('VEERENDRA',45)\n",
    "s1.introduction()\n",
    "print(s1.get_name())\n",
    "s1.set_age(40)\n",
    "print(s1.dad_age)\n",
    "\n",
    "    "
   ]
  },
  {
   "cell_type": "markdown",
   "metadata": {},
   "source": [
    "2nd is class method .in below code info is class method.profile is static method"
   ]
  },
  {
   "cell_type": "code",
   "execution_count": 31,
   "metadata": {},
   "outputs": [
    {
     "name": "stdout",
     "output_type": "stream",
     "text": [
      "yeswanth chowdary\n",
      "21.0\n",
      "narayana\n"
     ]
    }
   ],
   "source": [
    "class Student():\n",
    "    school=\"narayana\"\n",
    "    def __init__(self,m1,m2):\n",
    "        self.m1=m1\n",
    "        self.m2=m2\n",
    "    def avg(self):\n",
    "        print((self.m1+self.m2)/2)\n",
    "    @classmethod\n",
    "    def info(cls):\n",
    "        print( cls.school)\n",
    "    @staticmethod\n",
    "    def profile():\n",
    "        print('yeswanth chowdary')\n",
    "s1=Student(15,27)\n",
    "Student.profile()\n",
    "s1.avg()\n",
    "Student.info()"
   ]
  },
  {
   "cell_type": "markdown",
   "metadata": {},
   "source": [
    "# inner class\n"
   ]
  },
  {
   "cell_type": "code",
   "execution_count": 34,
   "metadata": {},
   "outputs": [
    {
     "name": "stdout",
     "output_type": "stream",
     "text": [
      "yeswanth 143\n",
      "dell 8gb\n"
     ]
    }
   ],
   "source": [
    "class Student():\n",
    "    def __init__(self,name,rollno):\n",
    "        self.name=name\n",
    "        self.rollno=rollno\n",
    "    def show(self):\n",
    "        print(self.name,self.rollno)\n",
    "    class Laptop():\n",
    "        def __init__(self):\n",
    "            self.brand='dell'\n",
    "            self.ram='8gb'\n",
    "        def show(self):\n",
    "            print(self.brand,self.ram)\n",
    "s1=Student(\"yeswanth\",143)\n",
    "s1.show()\n",
    "lap=Student.Laptop()         #one way of creating object for inner class\n",
    "lap.show()"
   ]
  },
  {
   "cell_type": "code",
   "execution_count": 4,
   "metadata": {},
   "outputs": [
    {
     "name": "stdout",
     "output_type": "stream",
     "text": [
      "yeswanth 143\n",
      "dell 8gb\n"
     ]
    }
   ],
   "source": [
    "class Student():\n",
    "    def __init__(self,name,rollno):\n",
    "        self.name=name\n",
    "        self.rollno=rollno\n",
    "        self.lap=self.Laptop()     # here lap is object of inner class laptop and another way of creating object for inner class.\n",
    "    def show(self):\n",
    "        print(self.name,self.rollno)\n",
    "        self.lap.show()                   #braces is imp\n",
    "    class Laptop():\n",
    "        def __init__(self):\n",
    "            self.brand='dell'\n",
    "            self.ram='8gb'\n",
    "        def show(self):\n",
    "            print(self.brand,self.ram)\n",
    "s1=Student(\"yeswanth\",143)\n",
    "s1.show()\n",
    "                                        \n"
   ]
  },
  {
   "cell_type": "markdown",
   "metadata": {},
   "source": [
    "# inheritance"
   ]
  },
  {
   "cell_type": "code",
   "execution_count": 26,
   "metadata": {},
   "outputs": [
    {
     "name": "stdout",
     "output_type": "stream",
     "text": [
      "hi chowdary\n",
      "veerendra sailaja\n"
     ]
    }
   ],
   "source": [
    "class A():\n",
    "    \n",
    "   \n",
    "    def show(self):\n",
    "        print('hi chowdary')\n",
    "\n",
    "class B(A):\n",
    "    def __init__(self,name,hername):\n",
    "        self.son=name\n",
    "        self.sonwife=hername\n",
    "    def display(self):\n",
    "        self.show()\n",
    "        print(self.son,self.sonwife)\n",
    "        \n",
    "        \n",
    "        \n",
    "o2=B('veerendra','sailaja')\n",
    "o2.display()\n"
   ]
  },
  {
   "cell_type": "markdown",
   "metadata": {},
   "source": [
    "# single inheritence"
   ]
  },
  {
   "cell_type": "code",
   "execution_count": 5,
   "metadata": {},
   "outputs": [
    {
     "name": "stdout",
     "output_type": "stream",
     "text": [
      "veerendra sailaja\n",
      "yeswanth\n"
     ]
    }
   ],
   "source": [
    "class A():\n",
    "    def __init__(self,name,hername):\n",
    "        self.men=name\n",
    "        self.women=hername\n",
    "    def show(self):\n",
    "        print(self.men,self.women)\n",
    "class B(A):\n",
    "    def __init__(self,sonname):\n",
    "        super().__init__('veerendra','sailaja')        \n",
    "        self.name=sonname\n",
    "    def show_2(self):\n",
    "        self.show()\n",
    "        print(self.name)\n",
    "s1=B('yeswanth')\n",
    "s1.show_2()\n",
    "\n",
    "\n",
    "        \n",
    "        "
   ]
  },
  {
   "cell_type": "markdown",
   "metadata": {},
   "source": [
    "# multylevel inheritence"
   ]
  },
  {
   "cell_type": "code",
   "execution_count": 9,
   "metadata": {},
   "outputs": [
    {
     "name": "stdout",
     "output_type": "stream",
     "text": [
      "ramanaidu lakshmi\n",
      "veerendra sailaja\n",
      "mr.yesh mrs.yesh\n"
     ]
    }
   ],
   "source": [
    "class Grand():\n",
    "    def __init__(self,name,hername):\n",
    "        self.gfather=name\n",
    "        self.gmother=hername\n",
    "    def show(self):\n",
    "        print(self.gfather,self.gmother)\n",
    "class Father(Grand):\n",
    "    def __init__(self,name,hername):\n",
    "        self.father=name\n",
    "        self.mother=hername\n",
    "        super().__init__('ramanaidu','lakshmi')\n",
    "    def show_1(self):\n",
    "        self.show()\n",
    "        print(self.father,self.mother)\n",
    "class Me(Father):\n",
    "    def __init__(self):\n",
    "            self.son='mr.yesh'\n",
    "            self.wife='mrs.yesh'\n",
    "            super().__init__('veerendra','sailaja')\n",
    "    def show_2(self):\n",
    "        self.show_1()\n",
    "        print(self.son,self.wife)\n",
    "        \n",
    "o1=Me()\n",
    "o1.show_2()\n",
    "        "
   ]
  },
  {
   "cell_type": "markdown",
   "metadata": {},
   "source": [
    "# multyple inheritence"
   ]
  },
  {
   "cell_type": "code",
   "execution_count": 9,
   "metadata": {},
   "outputs": [
    {
     "name": "stdout",
     "output_type": "stream",
     "text": [
      "gr gl\n",
      "gv gs\n",
      "mr.yesh\n"
     ]
    },
    {
     "data": {
      "text/plain": [
       "(__main__.C, __main__.A, __main__.B, object)"
      ]
     },
     "execution_count": 9,
     "metadata": {},
     "output_type": "execute_result"
    }
   ],
   "source": [
    "class A():\n",
    "    def __init__(self,name,hername):\n",
    "        self.gfather=name\n",
    "        self.gmother=hername\n",
    "    def show(self):\n",
    "        print(self.gfather,self.gmother)\n",
    "class B():\n",
    "    def __init__(self,name,hername):\n",
    "        self.father=name\n",
    "        self.mother=hername\n",
    "    def show_2(self):\n",
    "        print(self.father,self.mother)\n",
    "class C(A,B):\n",
    "    def __init__(self):\n",
    "        A.__init__(self,'gr','gl')\n",
    "        B.__init__(self,'gv','gs')\n",
    "    def show_3(self):\n",
    "        self.show()\n",
    "        self.show_2()\n",
    "        print('mr.yesh')    \n",
    "            \n",
    "s1=C()\n",
    "s1.show_3()\n",
    "C.__mro__                      #to print mro of a class"
   ]
  },
  {
   "cell_type": "markdown",
   "metadata": {},
   "source": [
    "# polymorphism"
   ]
  },
  {
   "cell_type": "markdown",
   "metadata": {},
   "source": [
    "#  1) duck typing"
   ]
  },
  {
   "cell_type": "code",
   "execution_count": 25,
   "metadata": {},
   "outputs": [
    {
     "name": "stdout",
     "output_type": "stream",
     "text": [
      "swimm walk shout\n"
     ]
    }
   ],
   "source": [
    "\n",
    "class Duck():\n",
    "    def __init__(self):\n",
    "        self.aa='swimm'\n",
    "        self.bb='walk'\n",
    "        self.ee='shout'\n",
    "    def show(self):\n",
    "        print(self.aa,self.bb,self.ee)\n",
    "class Show():\n",
    "    def display(self,ide):\n",
    "        ide.show()\n",
    "ide=Duck()        \n",
    "s1=Show()\n",
    "s1.display(ide)\n",
    "\n",
    "        \n",
    "        \n",
    "        "
   ]
  },
  {
   "cell_type": "markdown",
   "metadata": {},
   "source": [
    "# 2) operator overloading"
   ]
  },
  {
   "cell_type": "code",
   "execution_count": 14,
   "metadata": {},
   "outputs": [
    {
     "name": "stdout",
     "output_type": "stream",
     "text": [
      "(9, 11)\n",
      "True\n"
     ]
    }
   ],
   "source": [
    "class Points():\n",
    "    def __init__(self,x=0,y=0):\n",
    "        self.x=x\n",
    "        self.y=y\n",
    "    def __add__(self,other):\n",
    "        m1=self.x+other.x\n",
    "        m2=self.y+other.y\n",
    "        \n",
    "        return (m1,m2)\n",
    "    def __ne__(self,other):\n",
    "        self.m1=self.x+other.x\n",
    "        self.m2=self.y+other.y\n",
    "        return self.m1!=self.m2\n",
    "\n",
    "\n",
    "s1=Points(5,6)\n",
    "s2=Points(4,5)\n",
    "print(s1+s2)\n",
    "print(s1!=s2)\n",
    "\n",
    "\n",
    "\n",
    "\n",
    "\n",
    "\n",
    "\n",
    "\n",
    "\n"
   ]
  },
  {
   "cell_type": "markdown",
   "metadata": {},
   "source": [
    "# iterator\n",
    "1)through python iterator"
   ]
  },
  {
   "cell_type": "code",
   "execution_count": 14,
   "metadata": {},
   "outputs": [
    {
     "data": {
      "text/plain": [
       "1"
      ]
     },
     "execution_count": 14,
     "metadata": {},
     "output_type": "execute_result"
    }
   ],
   "source": [
    "num=[1,2,3,4,5,6,7]\n",
    "it=iter(num)\n",
    "next(it)\n",
    "#it.__next__()\n",
    "#it.__next__()\n"
   ]
  },
  {
   "cell_type": "markdown",
   "metadata": {},
   "source": [
    "2)through buildig own iterator in python"
   ]
  },
  {
   "cell_type": "code",
   "execution_count": 25,
   "metadata": {},
   "outputs": [
    {
     "data": {
      "text/plain": [
       "2"
      ]
     },
     "execution_count": 25,
     "metadata": {},
     "output_type": "execute_result"
    }
   ],
   "source": [
    "class Power():\n",
    "    def __init__(self,max=0):\n",
    "        self.max=max\n",
    "    def __iter__(self):\n",
    "        self.n=0\n",
    "        return self\n",
    "    def __next__(self):\n",
    "        if self.n<self.max:\n",
    "            num=2**self.n\n",
    "            self.n+=1\n",
    "            return num\n",
    "        else:\n",
    "            raise StopIteration\n",
    "            \n",
    "a=Power(5)\n",
    "i=iter(a)\n",
    "next(i)\n",
    "i.__next__()\n",
    "            \n",
    "            \n",
    "        \n",
    "        "
   ]
  },
  {
   "cell_type": "markdown",
   "metadata": {},
   "source": [
    "# generator\n",
    "1)generator in python"
   ]
  },
  {
   "cell_type": "code",
   "execution_count": 11,
   "metadata": {},
   "outputs": [
    {
     "name": "stdout",
     "output_type": "stream",
     "text": [
      "this is for first time\n",
      "this is for first time\n"
     ]
    },
    {
     "data": {
      "text/plain": [
       "2"
      ]
     },
     "execution_count": 11,
     "metadata": {},
     "output_type": "execute_result"
    }
   ],
   "source": [
    "def my_gen():\n",
    "    n=1\n",
    "    print('this is for first time')\n",
    "    yield n\n",
    "    \n",
    "    n+=1\n",
    "    print('this is for first time')\n",
    "    yield n\n",
    "    \n",
    "a=my_gen()    \n",
    "next(a) \n",
    "next(a)"
   ]
  },
  {
   "cell_type": "markdown",
   "metadata": {},
   "source": [
    "2)creating own generator"
   ]
  },
  {
   "cell_type": "code",
   "execution_count": 37,
   "metadata": {
    "scrolled": true
   },
   "outputs": [
    {
     "name": "stdout",
     "output_type": "stream",
     "text": [
      "o\n",
      "l\n",
      "l\n",
      "e\n",
      "h\n"
     ]
    }
   ],
   "source": [
    "def gen(string):\n",
    "    t=len(string)\n",
    "    for i in range(t-1,-1,-1):\n",
    "        yield string[i]\n",
    "        \n",
    "for i in gen('hello'):\n",
    "    print(i)"
   ]
  },
  {
   "cell_type": "markdown",
   "metadata": {},
   "source": [
    "# generator expression "
   ]
  },
  {
   "cell_type": "code",
   "execution_count": 2,
   "metadata": {
    "scrolled": true
   },
   "outputs": [
    {
     "name": "stdout",
     "output_type": "stream",
     "text": [
      "16\n",
      "36\n",
      "49\n",
      "81\n",
      "1\n"
     ]
    }
   ],
   "source": [
    "my_list=[4,6,7,9,1]\n",
    "a=(x**2 for x in my_list)\n",
    "print(next(a))\n",
    "print(next(a))\n",
    "print(next(a))\n",
    "print(next(a))\n",
    "print(next(a))\n",
    "\n",
    "\n"
   ]
  },
  {
   "cell_type": "markdown",
   "metadata": {},
   "source": [
    "# exception handling"
   ]
  },
  {
   "cell_type": "markdown",
   "metadata": {},
   "source": [
    "three types of errors ,Syntax error ,logical error , run time error\n"
   ]
  },
  {
   "cell_type": "code",
   "execution_count": 5,
   "metadata": {},
   "outputs": [
    {
     "name": "stdout",
     "output_type": "stream",
     "text": [
      "you can't divide with  zero division by zero\n"
     ]
    }
   ],
   "source": [
    "a=3\n",
    "b=0\n",
    "\n",
    "\n",
    "try :\n",
    "    print(a/b)      #critical statement  \n",
    "    \n",
    "except Exception as e:\n",
    "    print(\"you can\\'t divide with  zero\",e )\n",
    "    \n",
    "    \n",
    "    "
   ]
  },
  {
   "cell_type": "code",
   "execution_count": 10,
   "metadata": {},
   "outputs": [
    {
     "name": "stdout",
     "output_type": "stream",
     "text": [
      "enter the number5\n",
      "1.0\n",
      "close\n"
     ]
    }
   ],
   "source": [
    "a=5\n",
    "b=int(input(\"enter the number\"))\n",
    "try:\n",
    "    print(a/b)\n",
    "    \n",
    "except ZeroDivisionError as e: \n",
    "    print('you can\\'t divide with zero',e)\n",
    "except ValueError as e:\n",
    "    print('value error ',e)\n",
    "except exception as e:\n",
    "          print('something went wrong ......')\n",
    "    \n",
    "finally:\n",
    "    print('close')"
   ]
  },
  {
   "cell_type": "markdown",
   "metadata": {},
   "source": [
    "# threads\n",
    "three types :-1)without class\n",
    "              2)with extending class\n",
    "              3)without extending class"
   ]
  },
  {
   "cell_type": "markdown",
   "metadata": {},
   "source": [
    "# with extending class"
   ]
  },
  {
   "cell_type": "code",
   "execution_count": 1,
   "metadata": {},
   "outputs": [
    {
     "name": "stdout",
     "output_type": "stream",
     "text": [
      "gv gs\n",
      "hi\n",
      "gv gs\n",
      "hi\n",
      "gv gs\n",
      "hi\n",
      "gv gs\n",
      "hi\n",
      "gv gs\n",
      "hi\n"
     ]
    }
   ],
   "source": [
    "from threading import *\n",
    "from time import sleep\n",
    "class Hallo(Thread):\n",
    "    def __init__(self,name,hername):\n",
    "        super().__init__()\n",
    "        self.name=name\n",
    "        self.hername=hername\n",
    "    def run(self):\n",
    "        for i in range(5):\n",
    "            print(self.name,self.hername)\n",
    "            sleep(1)\n",
    "            \n",
    "class Hi(Thread):\n",
    "    def run(self):\n",
    "        for i in range(5):\n",
    "                print('hi')\n",
    "                sleep(1)\n",
    "        \n",
    "            \n",
    "s1=Hallo('gv','gs')\n",
    "s2=Hi()\n",
    "\n",
    "s1.start()\n",
    "s2.start()\n"
   ]
  },
  {
   "cell_type": "code",
   "execution_count": 5,
   "metadata": {},
   "outputs": [
    {
     "name": "stdout",
     "output_type": "stream",
     "text": [
      "hallo\n",
      "hi\n",
      "hi\n",
      "hallo\n",
      "hi\n",
      "hallo\n",
      "hi\n",
      "hallo\n",
      "hi\n",
      "hallo\n",
      "bye\n"
     ]
    }
   ],
   "source": [
    "from threading import *\n",
    "from time import sleep\n",
    "class Hallo(Thread):\n",
    "    def run(self):\n",
    "        for i in range(5):\n",
    "            print(\"hallo\")\n",
    "            sleep(1)\n",
    "            \n",
    "class Hi(Thread):\n",
    "    def run(self):\n",
    "        for i in range(5):\n",
    "                print('hi')\n",
    "                sleep(1)\n",
    "        \n",
    "            \n",
    "s1=Hallo()\n",
    "s2=Hi()\n",
    "\n",
    "s1.start()\n",
    "s2.start()\n",
    "s1.join()\n",
    "s2.join()\n",
    "print('bye')"
   ]
  },
  {
   "cell_type": "markdown",
   "metadata": {},
   "source": [
    "# without class"
   ]
  },
  {
   "cell_type": "code",
   "execution_count": 10,
   "metadata": {},
   "outputs": [
    {
     "name": "stdout",
     "output_type": "stream",
     "text": [
      "hi yseh\n",
      "hi yseh\n",
      "hi yseh\n",
      "hi yseh\n",
      "hi yseh\n",
      "thanks yesh\n"
     ]
    }
   ],
   "source": [
    "from threading import *\n",
    "from time import *\n",
    "def new():\n",
    "    for x in range(5):\n",
    "        print('hi yseh')\n",
    "        sleep(2)\n",
    "t1=Thread(target=new)\n",
    "t1.start()\n",
    "#t1.join()\n",
    "print('thanks yesh')"
   ]
  },
  {
   "cell_type": "code",
   "execution_count": 2,
   "metadata": {},
   "outputs": [
    {
     "name": "stdout",
     "output_type": "stream",
     "text": [
      "hi yseh\n",
      "hi yseh\n",
      "hi yseh\n",
      "hi yseh\n",
      "hi yseh\n",
      "thanks yesh\n"
     ]
    }
   ],
   "source": [
    "from threading import *\n",
    "def new():\n",
    "    for x in range(5):\n",
    "        print('hi yseh')\n",
    "t1=Thread(target=new)\n",
    "t1.start()\n",
    "t1.join()\n",
    "print('thanks yesh')"
   ]
  },
  {
   "cell_type": "markdown",
   "metadata": {},
   "source": [
    "# without extending class"
   ]
  },
  {
   "cell_type": "code",
   "execution_count": 8,
   "metadata": {},
   "outputs": [
    {
     "name": "stdout",
     "output_type": "stream",
     "text": [
      "child threading 1\n",
      "child threading 4\n",
      "child threading you\n",
      "1 4 3 to\n"
     ]
    }
   ],
   "source": [
    "class n:\n",
    "    lst=[1,4,'you']\n",
    "    for x in lst:\n",
    "        print('child threading',x)\n",
    "t1=n\n",
    "tobj=Thread(target=t1)\n",
    "tobj.start()\n",
    "print('1 4 3 to')\n",
    "\n",
    "\n",
    "        "
   ]
  }
 ],
 "metadata": {
  "kernelspec": {
   "display_name": "Python 3",
   "language": "python",
   "name": "python3"
  },
  "language_info": {
   "codemirror_mode": {
    "name": "ipython",
    "version": 3
   },
   "file_extension": ".py",
   "mimetype": "text/x-python",
   "name": "python",
   "nbconvert_exporter": "python",
   "pygments_lexer": "ipython3",
   "version": "3.7.3"
  }
 },
 "nbformat": 4,
 "nbformat_minor": 2
}
